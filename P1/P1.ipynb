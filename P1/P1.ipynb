{
 "cells": [
  {
   "cell_type": "markdown",
   "id": "5beff15f-8fb3-4335-8a68-c7a5da4c9121",
   "metadata": {
    "tags": []
   },
   "source": [
    "# Glaciology: Practical 1 (Sep 11)\n",
    "\n",
    "#### Anna Chen (yc4406)\n",
    "#### Last updated on Sep 11, 2025"
   ]
  },
  {
   "cell_type": "markdown",
   "id": "bfbd08b5-64db-4980-b893-cd9c03629dac",
   "metadata": {
    "tags": []
   },
   "source": [
    "Derivation:\n",
    "    \n",
    "Consider a cuboid $(x,y,z)$, where pressure from each opposing side pairs are balanced with each other. Hence, the only pressure we should be concerned about is the top and bottom pressure.\n",
    "\n",
    "Let the pressure from the top be $P_2$ acting downwards, and the pressure from the bottom be $P_1$ acting upwards. The weight $W = V \\rho g$ also acts downwards.\n",
    "\n",
    "Calculate the force of $P_1$ and $P_2$. We can define positive \\= upwards.\n",
    "$F_1=P_1 A = P_1 \\partial x \\partial y$\n",
    "$F_2=P_2 A = P_2 \\partial x \\partial y$\n",
    "\n",
    "Assume $a$ is 0, so:\n",
    "$$F=ma = 0$$\n",
    "\n",
    "The overall force is:\n",
    "\\begin{align*}\n",
    "    F &= P_1 \\partial x \\partial y - P_2 \\partial x \\partial y - W \\\\\n",
    "    &= P_1 \\partial x \\partial y - P_2 \\partial x \\partial y - V \\rho g \\\\\n",
    "    &= P_1 \\partial x \\partial y - P_2 \\partial x \\partial y - \\partial x \\partial y \\partial z \\rho g\n",
    "\\end{align*}\n",
    "\n",
    "We know the change in pressure is the change in depth multiplied by how pressure changes with depth:\n",
    "$$\\Delta P = P_2 - P_1= \\partial z \\frac{dP}{dz}$$\n",
    "We now can write $P_2$  in terms of $P_1$:\n",
    "$$P_2 = P_1 + \\partial z \\frac{dP}{dz}$$\n",
    "\n",
    "So we can rewrite:\n",
    "\\begin{align*}\n",
    "    F &= P_1 \\partial x \\partial y - P_2 \\partial x \\partial y - \\partial x \\partial y \\partial z \\rho g\\\\\n",
    "    &= P_1 \\partial x \\partial y - (P_1 + \\partial z \\frac{dP}{dz} ) (\\partial x \\partial y) - \\partial x \\partial y \\partial z \\rho g\\\\\n",
    "    &= P_1 - P_1 + \\partial z \\frac{dP}{dz} - \\partial z \\rho g\\\\\n",
    "    &= \\partial z \\frac{dP}{dZ} - \\partial z \\rho g \\\\\n",
    "    &= 0\n",
    "\\end{align*}\n",
    "\n",
    "Hence:\n",
    "\\begin{align*}\n",
    "    \\partial z \\frac{dP}{dZ} &= -\\partial z \\rho g \\\\\n",
    "    \\frac{dP}{dZ}  &= -\\rho g\n",
    "\\end{align*}\n",
    "\n",
    "Given this, we can integrate both sides:\n",
    "\\begin{align*}\n",
    "    dP &= (- \\rho g )dz \\\\\n",
    "    \\int_0^P dP &= (- \\rho g) \\int_{z_s}^{z}dz \\\\\n",
    "    P - 0 &= (-\\rho g) (z - z_s) \\\\\n",
    "    P &= \\rho g (z_s - z)\n",
    "\\end{align*}\n",
    "\n",
    "We can re-arrange the last equation as:\n",
    "\\begin{align*}\n",
    "    P_{i+1} - P_i &= - \\Delta z \\rho g \\\\\n",
    "    P_{i+1} &= P_i - \\Delta z \\rho g\n",
    "\\end{align*}"
   ]
  },
  {
   "cell_type": "code",
   "execution_count": 3,
   "id": "71157116-6258-449e-9498-52c0d5fcfb1d",
   "metadata": {
    "tags": []
   },
   "outputs": [],
   "source": [
    "import numpy as np\n",
    "import pandas as pd\n",
    "import xarray as xr\n",
    "import matplotlib.pyplot as plt"
   ]
  },
  {
   "cell_type": "code",
   "execution_count": 22,
   "id": "87b2924e-7f15-4e3b-bb1c-7b9d353ce58b",
   "metadata": {
    "tags": []
   },
   "outputs": [
    {
     "name": "stdout",
     "output_type": "stream",
     "text": [
      "The first 10 rows of data: \n",
      " \n",
      " [[  2.4       505.1646305]\n",
      " [  3.2       422.2508586]\n",
      " [  4.        468.5011014]\n",
      " [  4.8       484.4254977]\n",
      " [  5.6       483.124596 ]\n",
      " [  6.4       511.784361 ]\n",
      " [  7.2       540.6036147]\n",
      " [  8.        532.5673888]\n",
      " [  8.8       534.6511122]\n",
      " [  9.6       558.5907804]\n",
      " [ 10.4       555.1254326]]\n"
     ]
    }
   ],
   "source": [
    "D = np.loadtxt(\"SIR_density.csv\", delimiter=',', skiprows=1)\n",
    "print(\"The first 10 rows of data: \\n \\n\", D[0:11,:])"
   ]
  },
  {
   "cell_type": "code",
   "execution_count": 27,
   "id": "77ea3a8a-9840-4865-b514-1d1cfb8c734e",
   "metadata": {
    "tags": []
   },
   "outputs": [
    {
     "name": "stdout",
     "output_type": "stream",
     "text": [
      "The number of rows is:  362\n"
     ]
    }
   ],
   "source": [
    "print(\"The number of rows is: \", D.shape[0])"
   ]
  },
  {
   "cell_type": "code",
   "execution_count": 32,
   "id": "e72dd8c6-c38b-4e44-b178-d3eeceba66b4",
   "metadata": {
    "tags": []
   },
   "outputs": [
    {
     "name": "stdout",
     "output_type": "stream",
     "text": [
      "The maxiumum depth is:  291.2\n"
     ]
    }
   ],
   "source": [
    "print(\"The maxiumum depth is: \", D[-1,0])"
   ]
  },
  {
   "cell_type": "markdown",
   "id": "99513cf6-2eb6-453f-a49a-e91a3053ff51",
   "metadata": {},
   "source": [
    "$\\textbf{1. How many data points are there?}$\n",
    "\n",
    "There are 362 data points for density.\n",
    "\n",
    "$\\textbf{2. How deep was the ice core?}$\n",
    "\n",
    "The maximum depth is 291.20 m."
   ]
  },
  {
   "cell_type": "code",
   "execution_count": 30,
   "id": "1bdb39c4-fff8-49ee-b157-f141179eab58",
   "metadata": {
    "tags": []
   },
   "outputs": [
    {
     "name": "stdout",
     "output_type": "stream",
     "text": [
      "The density at the surface is:  505.1646305\n"
     ]
    }
   ],
   "source": [
    "print(\"The density at the surface is: \", D[0,1])"
   ]
  },
  {
   "cell_type": "code",
   "execution_count": 38,
   "id": "a1d34a38-0a20-43ca-b022-ba1bea841ee8",
   "metadata": {
    "tags": []
   },
   "outputs": [
    {
     "name": "stdout",
     "output_type": "stream",
     "text": [
      "The density at 30 m is:  699.6995052999999\n"
     ]
    }
   ],
   "source": [
    "z = 30\n",
    "depth_interp = np.interp(z, D[:,0], D[:,1])\n",
    "print(\"The density at\", z, \"m is: \", depth_interp)"
   ]
  },
  {
   "cell_type": "markdown",
   "id": "d4891200-571e-4aa4-ae20-abd2a3f45a60",
   "metadata": {},
   "source": [
    "$\\textbf{3. What is the density at the surface? What is the density at 30 m?}$\n",
    "\n",
    "At the surface: 505.16 $\\frac{kg}{m^3}$.\n",
    "\n",
    "At 30m: 700.00 $\\frac{kg}{m^3}$."
   ]
  },
  {
   "cell_type": "code",
   "execution_count": 49,
   "id": "b24376f5-ddef-4705-a7af-ee5371f287b9",
   "metadata": {
    "tags": []
   },
   "outputs": [
    {
     "data": {
      "image/png": "[encoded data removed]",
      "text/plain": [
       "<Figure size 600x400 with 1 Axes>"
      ]
     },
     "metadata": {},
     "output_type": "display_data"
    }
   ],
   "source": [
    "fig = plt.figure(figsize=(6,4))\n",
    "axes = fig.add_subplot(1, 1, 1)\n",
    "density_depth = axes.plot(density, depth, marker = '.', linestyle = '')\n",
    "axes.set_xlabel(\"Density (kg $m^{-3}$)\")\n",
    "axes.set_ylabel(\"Depth (m)\")\n",
    "axes.set_title(\"Depth Against Density\")\n",
    "axes.invert_yaxis()\n",
    "density_depth[0].set_color('g')"
   ]
  },
  {
   "cell_type": "code",
   "execution_count": 56,
   "id": "e6c8d750-8763-498c-88bd-9fb9c1112a6d",
   "metadata": {
    "tags": []
   },
   "outputs": [
    {
     "name": "stdout",
     "output_type": "stream",
     "text": [
      "The row number where depth reaches 50m is:  60\n",
      "The depth where the bottom 200m begins is:  91.19999999999999\n",
      "The row number where the last 200m of depth begins is:  111\n",
      "The mean density of the first 50m is:  343.6417791291667\n",
      "The mean density of the last 200m is:  546.7576863320717\n"
     ]
    }
   ],
   "source": [
    "for i in range(0, D.shape[0]):\n",
    "    if D[i,0] <= 50:\n",
    "        continue\n",
    "    else:\n",
    "        first_50m_row = i\n",
    "        print(\"The row number where depth reaches 50m is: \", first_50m_row)\n",
    "    break\n",
    "\n",
    "last_200m_begins = D[-1,0] - 200\n",
    "print(\"The depth where the bottom 200m begins is: \", last_200m_begins)\n",
    "\n",
    "for i in range(0, D.shape[0]):\n",
    "    if D[i,0] <= last_200m_begins:\n",
    "        continue\n",
    "    else:\n",
    "        last_200m_row = i\n",
    "        print(\"The row number where the last 200m of depth begins is: \", last_200m_row)\n",
    "    break\n",
    "\n",
    "mean_first_50m = np.mean(D[0:first_50m_row, :])\n",
    "mean_last_200m = np.mean(D[last_200m_row:, :])\n",
    "\n",
    "print(\"The mean density of the first 50m is: \", mean_first_50m)\n",
    "print(\"The mean density of the last 200m is: \", mean_last_200m)"
   ]
  },
  {
   "cell_type": "markdown",
   "id": "86db906d-15e8-428a-aa44-79702878a868",
   "metadata": {},
   "source": [
    "$\\textbf{5. What is the average density in the top 50 m and in the bottom 200m?}$\n",
    "\n",
    "The mean density of the first 50m is:  343.64\n",
    "\n",
    "The mean density of the last 200m is:  546.75"
   ]
  },
  {
   "cell_type": "markdown",
   "id": "89986b32-468a-4c8a-b04c-32a26f24bf6a",
   "metadata": {},
   "source": [
    "Recall from above that:\n",
    "$$\\frac{dP}{dZ}  = -\\rho g$$"
   ]
  },
  {
   "cell_type": "code",
   "execution_count": null,
   "id": "af1033b0-5a15-4d9b-964e-671131533860",
   "metadata": {},
   "outputs": [],
   "source": [
    "g = 9.81\n",
    "\n",
    "def pressure(depth):\n",
    "    "
   ]
  }
 ],
 "metadata": {
  "kernelspec": {
   "display_name": "Python 3 (ipykernel)",
   "language": "python",
   "name": "python3"
  },
  "language_info": {
   "codemirror_mode": {
    "name": "ipython",
    "version": 3
   },
   "file_extension": ".py",
   "mimetype": "text/x-python",
   "name": "python",
   "nbconvert_exporter": "python",
   "pygments_lexer": "ipython3",
   "version": "3.11.5"
  }
 },
 "nbformat": 4,
 "nbformat_minor": 5
}
