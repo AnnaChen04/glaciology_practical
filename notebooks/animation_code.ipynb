{
 "cells": [
  {
   "cell_type": "markdown",
   "id": "16eec5f2-1e73-4bbd-bcf7-40b6498326b1",
   "metadata": {},
   "source": [
    "# Code for plotting ice-sheet simulation results as an animation. \n",
    "\n",
    "You can copy and paste the cell below into your notebooks to produce an animation of your SIA ice-sheet model results. \n",
    "\n",
    "It assumes that you have called the ice sheet thickness `H`, the distance `x`, and the time `t`. \n",
    "\n",
    "You may need to import `conda install ipympl`."
   ]
  },
  {
   "cell_type": "code",
   "execution_count": null,
   "id": "f0e8cb9c-e4b6-4307-9dcf-cd514f076395",
   "metadata": {},
   "outputs": [],
   "source": [
    "## Use this code to plot an animation of your model results. \n",
    "\n",
    "# imports: you may need to import `conda install ipympl`\n",
    "%matplotlib widget\n",
    "from matplotlib import animation, rc\n",
    "from IPython.display import HTML\n",
    "rc('animation', html='jshtml')\n",
    "\n",
    "def animate_ice_model_results(x, t, f, interval_between_timesteps = 5000, time_delay_between_frames = 100):\n",
    "    # run this function by, e.g., `animate_ice_model_results(x, t, H)`\n",
    "\n",
    "    # open a figure and an axes inside the figure\n",
    "    fig, ax = plt.subplots()\n",
    "\n",
    "    # set the limits of the axes\n",
    "    ax.set_xlim(( x[0], x[-1]))    # the horizontal axis will go from 0 to X\n",
    "    ax.set_ylim((np.min(f), np.max(f)))   # the vertical axis will got from the lowest point on the bed, to the highest \n",
    "\n",
    "    # create an line object with no data, and suppress the plot \n",
    "    line, = ax.plot([], [], lw=2);\n",
    "    plt.close()\n",
    "\n",
    "    # define a function which updates the figure, given a timestep number. This function plots the line and updates the axis labels. \n",
    "    def animate(timestep):\n",
    "        line.set_data(x, f[timestep,:])                 # update the data\n",
    "        ax.set_title(f\"$t$ = {t[timestep]:.1f} years\")  # update the title\n",
    "        ax.set_xlabel(\"distance, $x$ [m]\")              # update the x label\n",
    "        ax.set_ylabel(\"ice surface height, $z_s$ [m]\")  # update the y label, change this if you want to plot something other than ice surface height\n",
    "        return line\n",
    "\n",
    "    # setup the animation \n",
    "    anim = animation.FuncAnimation(fig, animate, \n",
    "                                   frames = np.arange(0, len(t), interval_between_timesteps),\n",
    "                                   interval = time_delay_between_frames, \n",
    "                                   blit=True)\n",
    "    \n",
    "    return anim\n",
    "   \n",
    "# run the function to display the animation\n",
    "animate_ice_model_results(x, t, H)"
   ]
  }
 ],
 "metadata": {
  "kernelspec": {
   "display_name": "Python 3 (ipykernel)",
   "language": "python",
   "name": "python3"
  },
  "language_info": {
   "codemirror_mode": {
    "name": "ipython",
    "version": 3
   },
   "file_extension": ".py",
   "mimetype": "text/x-python",
   "name": "python",
   "nbconvert_exporter": "python",
   "pygments_lexer": "ipython3",
   "version": "3.11.0"
  }
 },
 "nbformat": 4,
 "nbformat_minor": 5
}
