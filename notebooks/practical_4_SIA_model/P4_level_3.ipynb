{
 "cells": [
  {
   "cell_type": "markdown",
   "id": "70431dfb-70d9-4019-bc96-8480ab89e592",
   "metadata": {},
   "source": [
    "# Solving our ice sheet model numercially\n",
    "\n",
    "## Level 3: The structure of a working code, with all the code removed. \n",
    "This version of the notebook contains all the text cells and headings, but none of the actual code. You will need to add one or many lines of code to every empty cell in this notebook. \n",
    "\n",
    "\n",
    "## The model\n",
    "\n",
    "The ice-sheet model we have derived is defined by\n",
    "\n",
    "$$\n",
    "\\frac{\\partial H}{\\partial t} = \\dot{b_i}(x) - \\frac{\\partial q}{\\partial x},\n",
    "$$\n",
    "\n",
    "$$\n",
    "q = -\\frac{2A}{n+2} \\left(\\rho g \\alpha \\right)^n  H^{n+2}  \n",
    "$$\n",
    "\n",
    "where $\\dot{b_i}$ is the ice-equivalent rate of accumulation on the ice sheet surface, $x$ is the horizontal coordinate, $H$ is the ice thickness, $t$ is time, $q$ is the depth-intergrated flux per unit width (hereafter, flux), $A$ is the flow parameter from the flow law, $n$ is the exponent from the flow law, $\\rho$ is the density of ice, $g$ is acceleration due to gravity, and $\\alpha$ is the surface slope $\\left(= - \\frac{\\partial H}{\\partial x}\\right)$."
   ]
  },
  {
   "cell_type": "markdown",
   "id": "413d74c8-73d6-4277-9df8-441afadb9b35",
   "metadata": {},
   "source": [
    "We will use a a simple finite-difference scheme. It approximates the derivatives as differences, e.g.\n",
    "\n",
    "$$\n",
    "\\frac{\\partial H}{\\partial t} = \\frac{H^{j+1}-H^{j}}{\\Delta t}\n",
    "$$\n",
    "\n",
    "where $j$ refers to which 'time step' we are looking at and $\\Delta t$ is the time interval between timesteps. \n",
    "\n",
    "Applying this approximation (or more precisly a 'centered-difference version of the approximation) to the spatial derivatives gives\n",
    "\n",
    "$$\n",
    "\\frac{\\partial q}{\\partial x}\\bigg\\rvert^j = \\frac{ q^j_{i+1} - q^j_{i-1}}{2 \\Delta x}\n",
    "$$ \n",
    "\n",
    "and\n",
    "\n",
    "$$\n",
    "\\frac{\\partial H}{\\partial x}\\bigg\\rvert^j = \\frac{ H^j_{i+1} - H^j_{i-1}}{2 \\Delta x}.\n",
    "$$\n",
    "\n"
   ]
  },
  {
   "cell_type": "markdown",
   "id": "28dfb322-621d-436b-8f18-03f15195217c",
   "metadata": {},
   "source": [
    "Substituting these into our model gives\n",
    "\n",
    "$$\n",
    "\\frac{H^{j+1}-H^{j}}{\\delta t} = a_i - \\frac{\\partial q^j_{i+1} - q^j_{i-1}}{2 \\Delta x},\n",
    "$$\n",
    "\n",
    "\n",
    "$$\n",
    "q^j_i = -\\frac{2A}{n+2} \\left(\\rho g  \\right)^n  {H^j_i}^{n+2}  \\left(\\frac{H^j_{i+1} - H^j_{i-1}}{2\\Delta x}\\right)^n\n",
    "$$\n",
    "\n",
    "\n",
    "\n",
    "We impose the surface mass balance (SMB) as a simple linear function of distance:\n",
    "\n",
    "$$\n",
    "a = 10^{-4}\\left(\\frac{X}{3}-x\\right), \n",
    "$$\n",
    "\n",
    "where $X$ is the length of the spatial domain. \n",
    "\n",
    "We will also impose a no-flow boundary condition on the right hand side. Let's think about what this looks like in our model as we go along.\n",
    "\n",
    "We will also assume a flat bed topography."
   ]
  },
  {
   "cell_type": "markdown",
   "id": "b529a38f-b625-4d03-9c48-229a03cc7463",
   "metadata": {},
   "source": [
    "## Imports"
   ]
  },
  {
   "cell_type": "code",
   "execution_count": 29,
   "id": "45e88ddf-4e84-47b5-96a9-aa4999a2ed37",
   "metadata": {},
   "outputs": [],
   "source": []
  },
  {
   "cell_type": "markdown",
   "id": "746cc0f1-4591-431a-9d9d-528b1dd2bb72",
   "metadata": {},
   "source": [
    "## 1. Set up time and space grids\n",
    "The first step is to set up our descritized time and space domains. We will use units of years for time and meters for distance. Setting up the grid involves choosing a time step, a total number of years the simulation should last, a grid spacing and a domain length:"
   ]
  },
  {
   "cell_type": "code",
   "execution_count": 2,
   "id": "57cc9a13-fb50-4366-a4bc-fadd18d730be",
   "metadata": {},
   "outputs": [],
   "source": []
  },
  {
   "cell_type": "code",
   "execution_count": 3,
   "id": "9182827c-e286-478f-8f1a-2b2e53d4c953",
   "metadata": {},
   "outputs": [],
   "source": []
  },
  {
   "cell_type": "markdown",
   "id": "ce6264eb-0c3a-4624-8374-a0c2f3e1bc1a",
   "metadata": {},
   "source": [
    "The numerical scheme is a more stable if we evaluate the flux $q$ on a staggered grid. This is a grid of points that lie at the midpoints of all the normal grid points. This will allow us to easily evaluate the gradient of $q$ back on the normal grid to evolve $H$ forward in time. "
   ]
  },
  {
   "cell_type": "code",
   "execution_count": 4,
   "id": "8eda2394-0e10-4663-a515-8b29815cddfa",
   "metadata": {},
   "outputs": [],
   "source": []
  },
  {
   "cell_type": "markdown",
   "id": "b9e46472-a734-4e1d-80bf-307408fccc5f",
   "metadata": {},
   "source": [
    "Note that the staggered grid has one less element that the normal grid:\n"
   ]
  },
  {
   "cell_type": "code",
   "execution_count": 5,
   "id": "9791b5fe-f310-4783-9509-713bcdb32a7c",
   "metadata": {},
   "outputs": [
    {
     "name": "stdout",
     "output_type": "stream",
     "text": [
      "The staggered grid has 199 elements,\n",
      "whereas the normal grid has 200 elements.\n"
     ]
    }
   ],
   "source": []
  },
  {
   "cell_type": "markdown",
   "id": "7b4927ff-def4-4b67-bca8-b53e3873ff3d",
   "metadata": {},
   "source": [
    "## 2. Define physical constants\n",
    "These are the parameters that we will not be varying in our model - at least not initially.\n",
    "\n",
    "We include a small numerical parameter `e`. In places where $H = 0$, the physics that our model describes do not apply, so a simple (but crude) way to avoid this is to never allow $H$ to go below this small value `e`."
   ]
  },
  {
   "cell_type": "code",
   "execution_count": 15,
   "id": "640e61ff-56ee-4e75-a2e8-049da1843654",
   "metadata": {},
   "outputs": [],
   "source": []
  },
  {
   "cell_type": "markdown",
   "id": "66344fc7-c9fb-4a6a-a7ac-1a83c6d53399",
   "metadata": {},
   "source": [
    "## 3. Preallocate the ice thickness array\n",
    "For simplicity, we will save the ice thickness at every time step. To do this most efficiently, we 'pre-allocate' the memory for the array by creating an array the right width and height consisting of zeros. Notice that the time domain will correspond to the first index of `H` and the spatial domain will correspond to the second. "
   ]
  },
  {
   "cell_type": "code",
   "execution_count": 16,
   "id": "af0e4e46-d9a7-45d4-ab2a-b4ec751f1e79",
   "metadata": {},
   "outputs": [],
   "source": []
  },
  {
   "cell_type": "markdown",
   "id": "fb371f6f-88fb-4358-963c-af9a8f65ec85",
   "metadata": {},
   "source": [
    "## 4. Define initial conditions\n",
    "Because our model contains a time derivative of ice thickness $H$, we need to assign $H$ an initial condition. This will be arbitrary, so we better make sure that the conclusions we draw from simulations do not rely on this arbitrary choice. \n",
    "\n",
    "For simicity we will make $H$ uniform initally and equal to `e`."
   ]
  },
  {
   "cell_type": "code",
   "execution_count": 17,
   "id": "57ce4129-259d-4be1-a4d7-9d17ef829495",
   "metadata": {},
   "outputs": [],
   "source": []
  },
  {
   "cell_type": "markdown",
   "id": "d8784e28-ae03-40d3-9863-0c59af4abb07",
   "metadata": {},
   "source": [
    "## 5. Prescribe the surface mass balance\n",
    "The model is forced by the surface mass balance $\\dot{b_i}$. For simplicity, we will prescribe $\\dot{b_i}$ as a simple linear function of distance. \n",
    "\n",
    "$$\n",
    "\\dot{b_i} = 10^{-4} \\left( \\frac{X}{3} - x \\right)\n",
    "$$"
   ]
  },
  {
   "cell_type": "code",
   "execution_count": 18,
   "id": "7b9a9158-9b9f-4307-a843-b95d8fc646df",
   "metadata": {},
   "outputs": [],
   "source": []
  },
  {
   "cell_type": "markdown",
   "id": "bad57f1d-1275-4772-8b39-6b0b6a5da863",
   "metadata": {},
   "source": [
    "Let's plot the surface mass balance as a function of $x$:"
   ]
  },
  {
   "cell_type": "code",
   "execution_count": null,
   "id": "3882d5b0-9662-44a0-8ef2-bcd5fbf24ce4",
   "metadata": {},
   "outputs": [],
   "source": []
  },
  {
   "cell_type": "markdown",
   "id": "bf4adcc5-5a59-4a74-9328-791eec7625c6",
   "metadata": {},
   "source": [
    "This function says that $\\dot{b_i}$ is positive on the left of our model domain and decreases linearly with $x$, passing zero at $x=1500$ m. This is probably not how SMB really works; $\\dot{b_i}$ is more likely to be a function of elevation $\\left(\\dot{b_i}(H)\\right)$ rather than distance $\\left(\\dot{b_i}(x)\\right)$, but with a flat bed like this, $\\dot{b_i}(H)$ leads to unstable ice sheet growth or decay, so the only steady state we can reach is $H(x) = 0$, which isn't very interesting. So we will stick with this unrealistic way of imposing $\\dot{b_i}$ for now and we can always come back to this later and look at what happens when it is prescribed in a more realistic way. \n"
   ]
  },
  {
   "cell_type": "markdown",
   "id": "690a5dcb-bb2e-4e22-83ad-e40d5bac3a4c",
   "metadata": {},
   "source": [
    "## 6. Prepare for plotting\n",
    "The simulation (below) will involve iteratively solving the model equations at each time step. This will happen in a for loop.\n",
    "\n",
    "To track the progress of  simulations we will want to print a message from within our for loop, but not in every iteration because there will be len(t) iterations, which is thousands. The simplest solution is to only print a message whenever the remainder of dividing the iteration number by some large number `print_period` is zero. \n",
    "\n",
    "Note that a nicer solution would be to use a package which will print a progress bar like [tqdm](https://tqdm.github.io/), but this requires installing a new package, so we won't do that right now. "
   ]
  },
  {
   "cell_type": "code",
   "execution_count": 20,
   "id": "7ef524b4-371e-43d2-ad21-4b672040513c",
   "metadata": {},
   "outputs": [],
   "source": []
  },
  {
   "cell_type": "markdown",
   "id": "6f4cf618-e728-4fff-bbd3-28a2ff5cbab2",
   "metadata": {},
   "source": [
    "## 7. Run the simulation\n",
    "Finally, we are ready to run our simulation. \n",
    "\n",
    "We will loop through every time step. In each iteration, $j$ we will use the ice thickness from the previous time, $H^{j-1}$ step to compute the following:\n",
    "\n",
    "1. the ice thickness on the staggered grid,\n",
    "2. the surface slope, $\\alpha$, on the staggered grid, using (1) \n",
    "3. the flux on the staggered grid, using (1) and (2), and \n",
    "4. the ice thickness at the current time step on the normal grid, using (3) and $\\dot{b_i}$ \n",
    "\n",
    "The code in cell below is numbered to show where each step is happening. \n",
    "\n",
    "The code in the cell below also times the executiono the model with `%%time` and applies the boundary conditions. "
   ]
  },
  {
   "cell_type": "code",
   "execution_count": null,
   "id": "e6c292df-ffca-48e9-8e14-fe5dee65bb1a",
   "metadata": {},
   "outputs": [],
   "source": []
  },
  {
   "cell_type": "markdown",
   "id": "d3651693-9785-4c1f-b3e2-b1a657657687",
   "metadata": {},
   "source": [
    "## 8. Plot the results\n",
    "The simplest result to plot is the final ice thickness, $H(x,T)$:"
   ]
  },
  {
   "cell_type": "code",
   "execution_count": null,
   "id": "9551ad8f-0c6e-4efe-8bda-4529bf2f8aaf",
   "metadata": {},
   "outputs": [],
   "source": []
  },
  {
   "cell_type": "markdown",
   "id": "a63f1985-ad05-4073-90bf-5780ec03173e",
   "metadata": {},
   "source": [
    "We can also plot the thickness profile $H(x)$ from every 10,000th timestep. We see that the glacier grows from the initial conditions of $H(t=0,x) = e$ and advances until we get a characteristic convex ice-sheet shape. This is caused by the interplay of thinning towards the terminus, the dependence of flux on thickness, and the spatial variability of flux. "
   ]
  },
  {
   "cell_type": "code",
   "execution_count": null,
   "id": "8d618a7e-60ec-4f1b-87a4-6ff307a71c40",
   "metadata": {},
   "outputs": [],
   "source": []
  },
  {
   "cell_type": "markdown",
   "id": "3d36960d-9b95-45ef-8db7-e004d2cddd60",
   "metadata": {},
   "source": [
    "Another kind of plot we can make is a time series of ice thickness from a particualr location. In this case we will plot the icce thickness on the left side of the domain - the ice divide. "
   ]
  },
  {
   "cell_type": "code",
   "execution_count": null,
   "id": "b7f94765-c113-41a8-883e-12f7ca5a0144",
   "metadata": {},
   "outputs": [],
   "source": []
  },
  {
   "cell_type": "markdown",
   "id": "cc5e4b34-ad4b-4ad9-b6ba-8cf104bdfd20",
   "metadata": {},
   "source": [
    "We can also plot the final ice flux as follows."
   ]
  },
  {
   "cell_type": "code",
   "execution_count": null,
   "id": "2cc789ca-4f85-4932-95f0-cf9ac88db043",
   "metadata": {},
   "outputs": [],
   "source": []
  }
 ],
 "metadata": {
  "kernelspec": {
   "display_name": "Python 3",
   "language": "python",
   "name": "python3"
  },
  "language_info": {
   "codemirror_mode": {
    "name": "ipython",
    "version": 3
   },
   "file_extension": ".py",
   "mimetype": "text/x-python",
   "name": "python",
   "nbconvert_exporter": "python",
   "pygments_lexer": "ipython3",
   "version": "3.10.6"
  }
 },
 "nbformat": 4,
 "nbformat_minor": 5
}
