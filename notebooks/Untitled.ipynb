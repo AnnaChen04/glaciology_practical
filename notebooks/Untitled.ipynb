{
 "cells": [
  {
   "cell_type": "markdown",
   "id": "f39d5bf7-eeff-4274-a875-3cef18a4166a",
   "metadata": {},
   "source": [
    "# Practical 5: Antarctic flow speed, thickness and surface elevation"
   ]
  },
  {
   "cell_type": "code",
   "execution_count": 1,
   "id": "6ec6ff0e-3f1c-426d-8fd5-4648f406ca58",
   "metadata": {},
   "outputs": [],
   "source": [
    "import scipy.io"
   ]
  },
  {
   "cell_type": "code",
   "execution_count": 7,
   "id": "e5ffba4e-b6ed-4e78-9409-40287f378a46",
   "metadata": {},
   "outputs": [],
   "source": [
    "s = scipy.io.loadmat(\"/Users/jkingslake/Documents/teaching/Glaciology/2019/P4/MeasuredSpeed.mat\")"
   ]
  },
  {
   "cell_type": "code",
   "execution_count": 6,
   "id": "29c006b5-8ebe-45cc-9798-e3956577e56f",
   "metadata": {},
   "outputs": [
    {
     "data": {
      "text/plain": [
       "{'__header__': b'MATLAB 5.0 MAT-file, Platform: PCWIN64, Created on: Tue Aug 08 16:02:55 2017',\n",
       " '__version__': '1.0',\n",
       " '__globals__': [],\n",
       " 'Vx': array([[0., 0., 0., ..., 0., 0., 0.],\n",
       "        [0., 0., 0., ..., 0., 0., 0.],\n",
       "        [0., 0., 0., ..., 0., 0., 0.],\n",
       "        ...,\n",
       "        [0., 0., 0., ..., 0., 0., 0.],\n",
       "        [0., 0., 0., ..., 0., 0., 0.],\n",
       "        [0., 0., 0., ..., 0., 0., 0.]]),\n",
       " 'Vy': array([[0., 0., 0., ..., 0., 0., 0.],\n",
       "        [0., 0., 0., ..., 0., 0., 0.],\n",
       "        [0., 0., 0., ..., 0., 0., 0.],\n",
       "        ...,\n",
       "        [0., 0., 0., ..., 0., 0., 0.],\n",
       "        [0., 0., 0., ..., 0., 0., 0.],\n",
       "        [0., 0., 0., ..., 0., 0., 0.]]),\n",
       " 'x': array([[-2797500., -2792500., -2787500., ...,  2987500.,  2992500.,\n",
       "          2997500.]]),\n",
       " 'y': array([[-2797500.],\n",
       "        [-2792500.],\n",
       "        [-2787500.],\n",
       "        ...,\n",
       "        [ 2787500.],\n",
       "        [ 2792500.],\n",
       "        [ 2797500.]])}"
      ]
     },
     "execution_count": 6,
     "metadata": {},
     "output_type": "execute_result"
    }
   ],
   "source": [
    "s"
   ]
  },
  {
   "cell_type": "code",
   "execution_count": 4,
   "id": "15995cdf-ab7d-4a08-b626-404d30178f6f",
   "metadata": {},
   "outputs": [
    {
     "data": {
      "text/plain": [
       "{'__header__': b'MATLAB 5.0 MAT-file, Platform: PCWIN64, Created on: Tue Aug 08 16:02:55 2017',\n",
       " '__version__': '1.0',\n",
       " '__globals__': [],\n",
       " 'Vx': array([[0., 0., 0., ..., 0., 0., 0.],\n",
       "        [0., 0., 0., ..., 0., 0., 0.],\n",
       "        [0., 0., 0., ..., 0., 0., 0.],\n",
       "        ...,\n",
       "        [0., 0., 0., ..., 0., 0., 0.],\n",
       "        [0., 0., 0., ..., 0., 0., 0.],\n",
       "        [0., 0., 0., ..., 0., 0., 0.]]),\n",
       " 'Vy': array([[0., 0., 0., ..., 0., 0., 0.],\n",
       "        [0., 0., 0., ..., 0., 0., 0.],\n",
       "        [0., 0., 0., ..., 0., 0., 0.],\n",
       "        ...,\n",
       "        [0., 0., 0., ..., 0., 0., 0.],\n",
       "        [0., 0., 0., ..., 0., 0., 0.],\n",
       "        [0., 0., 0., ..., 0., 0., 0.]]),\n",
       " 'x': array([[-2797500, -2792500, -2787500, ...,  2987500,  2992500,  2997500]],\n",
       "       dtype=int32),\n",
       " 'y': array([[-2797500],\n",
       "        [-2792500],\n",
       "        [-2787500],\n",
       "        ...,\n",
       "        [ 2787500],\n",
       "        [ 2792500],\n",
       "        [ 2797500]], dtype=int32)}"
      ]
     },
     "execution_count": 4,
     "metadata": {},
     "output_type": "execute_result"
    }
   ],
   "source": [
    "Vx = s['Vx']\n",
    "Vy = s['Vy']\n",
    "s['x']\n",
    "s['y']"
   ]
  },
  {
   "cell_type": "code",
   "execution_count": null,
   "id": "46bb2dbe-f651-416b-a751-73797ab8b4d4",
   "metadata": {},
   "outputs": [],
   "source": []
  },
  {
   "cell_type": "code",
   "execution_count": null,
   "id": "9c96e5fd-2b3a-4575-a159-f68b067d8e5b",
   "metadata": {},
   "outputs": [],
   "source": [
    "\"/Users/jkingslake/Documents/teaching/Glaciology/2023/practicals/glaciology_practical/data/bedmap2_surface.tif\""
   ]
  }
 ],
 "metadata": {
  "kernelspec": {
   "display_name": "Python 3 (ipykernel)",
   "language": "python",
   "name": "python3"
  },
  "language_info": {
   "codemirror_mode": {
    "name": "ipython",
    "version": 3
   },
   "file_extension": ".py",
   "mimetype": "text/x-python",
   "name": "python",
   "nbconvert_exporter": "python",
   "pygments_lexer": "ipython3",
   "version": "3.11.0"
  }
 },
 "nbformat": 4,
 "nbformat_minor": 5
}
