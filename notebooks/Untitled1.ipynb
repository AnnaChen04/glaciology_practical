{
 "cells": [
  {
   "cell_type": "code",
   "execution_count": 1,
   "id": "313868e8-64b1-44cf-9d2b-0056289db349",
   "metadata": {},
   "outputs": [
    {
     "data": {
      "text/plain": [
       "57.5"
      ]
     },
     "execution_count": 1,
     "metadata": {},
     "output_type": "execute_result"
    }
   ],
   "source": [
    "(1450-300)*0.05"
   ]
  },
  {
   "cell_type": "code",
   "execution_count": 3,
   "id": "c8eca59f-c0a5-4b74-97f4-7f420c415305",
   "metadata": {},
   "outputs": [
    {
     "data": {
      "text/plain": [
       "146505.3333333333"
      ]
     },
     "execution_count": 3,
     "metadata": {},
     "output_type": "execute_result"
    }
   ],
   "source": [
    "119868/9*11"
   ]
  },
  {
   "cell_type": "code",
   "execution_count": null,
   "id": "03c4b029-8c1a-42d9-a6e0-bac9190ac9b7",
   "metadata": {},
   "outputs": [],
   "source": []
  }
 ],
 "metadata": {
  "kernelspec": {
   "display_name": "Python 3 (ipykernel)",
   "language": "python",
   "name": "python3"
  },
  "language_info": {
   "codemirror_mode": {
    "name": "ipython",
    "version": 3
   },
   "file_extension": ".py",
   "mimetype": "text/x-python",
   "name": "python",
   "nbconvert_exporter": "python",
   "pygments_lexer": "ipython3",
   "version": "3.11.0"
  }
 },
 "nbformat": 4,
 "nbformat_minor": 5
}
